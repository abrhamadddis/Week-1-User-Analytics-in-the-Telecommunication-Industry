{
 "cells": [
  {
   "cell_type": "code",
   "execution_count": 3,
   "metadata": {},
   "outputs": [],
   "source": [
    "import  script"
   ]
  },
  {
   "cell_type": "code",
   "execution_count": 4,
   "metadata": {},
   "outputs": [
    {
     "name": "stdout",
     "output_type": "stream",
     "text": [
      "Connection successful\n"
     ]
    }
   ],
   "source": [
    "engine=script.create_conn()\n",
    "cleaned_data=script.fetch_data(engine, \"xdr_cleaned_data\")"
   ]
  },
  {
   "cell_type": "code",
   "execution_count": 5,
   "metadata": {},
   "outputs": [],
   "source": [
    "# 1. Number of xDR Sessions per User\n",
    "sessions_per_user = cleaned_data.groupby('MSISDN/Number')['Bearer Id'].nunique()"
   ]
  },
  {
   "cell_type": "code",
   "execution_count": 6,
   "metadata": {},
   "outputs": [
    {
     "data": {
      "text/plain": [
       "MSISDN/Number\n",
       "3.360100e+10      1\n",
       "3.360100e+10      1\n",
       "3.360100e+10      1\n",
       "3.360101e+10      1\n",
       "3.360101e+10      2\n",
       "               ... \n",
       "3.379000e+10      1\n",
       "4.188282e+10    502\n",
       "3.197021e+12      1\n",
       "3.370000e+14      1\n",
       "8.823971e+14      1\n",
       "Name: Bearer Id, Length: 106857, dtype: int64"
      ]
     },
     "execution_count": 6,
     "metadata": {},
     "output_type": "execute_result"
    }
   ],
   "source": [
    "sessions_per_user"
   ]
  },
  {
   "cell_type": "code",
   "execution_count": 9,
   "metadata": {},
   "outputs": [],
   "source": [
    "import pandas as pd\n",
    "cleaned_data['Start'] = pd.to_datetime(cleaned_data['Start'])\n",
    "cleaned_data['End'] = pd.to_datetime(cleaned_data['End'])\n",
    "cleaned_data['Session Duration'] = (cleaned_data['End'] - cleaned_data['Start']).dt.total_seconds()\n",
    "total_session_duration = cleaned_data.groupby('MSISDN/Number')['Session Duration'].sum()"
   ]
  },
  {
   "cell_type": "code",
   "execution_count": 10,
   "metadata": {},
   "outputs": [
    {
     "data": {
      "text/plain": [
       "MSISDN/Number\n",
       "3.360100e+10      116760.0\n",
       "3.360100e+10      181260.0\n",
       "3.360100e+10      135000.0\n",
       "3.360101e+10       49920.0\n",
       "3.360101e+10       37200.0\n",
       "                   ...    \n",
       "3.379000e+10      141000.0\n",
       "4.188282e+10    72447720.0\n",
       "3.197021e+12      877380.0\n",
       "3.370000e+14      253020.0\n",
       "8.823971e+14      869820.0\n",
       "Name: Session Duration, Length: 106857, dtype: float64"
      ]
     },
     "execution_count": 10,
     "metadata": {},
     "output_type": "execute_result"
    }
   ],
   "source": [
    "total_session_duration"
   ]
  }
 ],
 "metadata": {
  "kernelspec": {
   "display_name": ".venv",
   "language": "python",
   "name": "python3"
  },
  "language_info": {
   "codemirror_mode": {
    "name": "ipython",
    "version": 3
   },
   "file_extension": ".py",
   "mimetype": "text/x-python",
   "name": "python",
   "nbconvert_exporter": "python",
   "pygments_lexer": "ipython3",
   "version": "3.10.12"
  }
 },
 "nbformat": 4,
 "nbformat_minor": 2
}
